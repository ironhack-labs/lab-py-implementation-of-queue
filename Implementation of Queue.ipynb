{
 "cells": [
  {
   "cell_type": "markdown",
   "metadata": {},
   "source": [
    "# LAB | Implementation of Queues"
   ]
  },
  {
   "cell_type": "markdown",
   "metadata": {},
   "source": [
    "\n",
    "## Overview"
   ]
  },
  {
   "cell_type": "markdown",
   "metadata": {},
   "source": [
    "\n",
    "This lesson will cover the implementation of queues in Python, focusing on two primary methods: array implementation and linked list implementation. Understanding these implementations will provide a solid foundation for working with queues in various applications.\n"
   ]
  },
  {
   "cell_type": "markdown",
   "metadata": {},
   "source": [
    "\n",
    "## Instructions\n"
   ]
  },
  {
   "cell_type": "markdown",
   "metadata": {},
   "source": [
    "\n",
    "- Complete each section by understanding the concepts and implementing the provided code.\n",
    "- Test your code to ensure it behaves as expected.\n",
    "\n",
    "\n"
   ]
  },
  {
   "cell_type": "markdown",
   "metadata": {},
   "source": [
    "\n",
    "## 1. Array Implementation of Queue\n"
   ]
  },
  {
   "cell_type": "markdown",
   "metadata": {},
   "source": [
    "\n",
    "In this section, we will discuss how to implement a queue using a simple array. While this method is not efficient for practical use, as it can lead to wasted space, it is important for understanding the fundamentals of queue operations.\n"
   ]
  },
  {
   "cell_type": "markdown",
   "metadata": {},
   "source": [
    "\n",
    "### Key Concepts\n",
    "\n",
    "- **Capacity**: The fixed size of the array.\n",
    "- **Size**: The current number of elements in the queue.\n",
    "- **Front**: The index of the first element in the array.\n"
   ]
  },
  {
   "cell_type": "markdown",
   "metadata": {},
   "source": [
    "\n",
    "### Operations\n",
    "\n",
    "- **Enqueue**: Adds new elements to the end of the queue. Checks if there is space before insertion and increments the size.\n",
    "- **Dequeue**: Removes the front element by shifting all remaining elements one position to the left and decrements the size.\n",
    "- **getFront**: Returns the first element of the queue if it’s not empty; returns -1 if the queue is empty.\n",
    "- **Display**: Iterates through the queue from front to size and prints each element.\n"
   ]
  },
  {
   "cell_type": "markdown",
   "metadata": {},
   "source": [
    "### Explanation\n",
    "This cell demonstrates the implementation. Take a moment to check out the code and run the cell to see how it works."
   ]
  },
  {
   "cell_type": "code",
   "execution_count": 1,
   "metadata": {},
   "outputs": [
    {
     "name": "stdout",
     "output_type": "stream",
     "text": [
      "10 20 \n",
      "10\n"
     ]
    }
   ],
   "source": [
    "class ArrayQueue:\n",
    "    def __init__(self, capacity):\n",
    "        self.capacity = capacity\n",
    "        self.queue = [None] * capacity\n",
    "        self.size = 0\n",
    "        self.front = 0\n",
    "        self.rear = 0\n",
    "\n",
    "    def enQueue(self, item):\n",
    "        if self.size == self.capacity:\n",
    "            print(\"Queue is full\")\n",
    "            return\n",
    "\n",
    "        rear = (self.front + self.size) % self.capacity\n",
    "        self.queue[rear] = item\n",
    "        self.size += 1\n",
    "\n",
    "    def deQueue(self):\n",
    "        if self.size == 0:\n",
    "            print(\"Queue is empty\")\n",
    "            return -1\n",
    "\n",
    "        item = self.queue[self.front]\n",
    "        self.front = (self.front + 1) % self.capacity\n",
    "        self.size -= 1\n",
    "        return item\n",
    "\n",
    "    def getFront(self):\n",
    "        if self.size == 0:\n",
    "            return -1\n",
    "        return self.queue[self.front]\n",
    "\n",
    "    def display(self):\n",
    "        for i in range(self.size):\n",
    "            print(self.queue[(self.front + i) % self.capacity], end=\" \")\n",
    "        print()\n",
    "\n",
    "# Example usage:\n",
    "array_queue = ArrayQueue(5)\n",
    "array_queue.enQueue(10)\n",
    "array_queue.enQueue(20)\n",
    "array_queue.display()  # Output: 10 20\n",
    "print(array_queue.deQueue())  # Output: 10"
   ]
  },
  {
   "cell_type": "markdown",
   "metadata": {},
   "source": [
    "### Try It Yourself!\n",
    "Modify the implementation below or try writing your own version based on what you've learned above."
   ]
  },
  {
   "cell_type": "code",
   "execution_count": 2,
   "metadata": {},
   "outputs": [
    {
     "name": "stdout",
     "output_type": "stream",
     "text": [
      "Queue is full\n",
      "10 20 30 \n"
     ]
    }
   ],
   "source": [
    "array_queue_2 = ArrayQueue(3)\n",
    "array_queue_2.enQueue(10)\n",
    "array_queue_2.enQueue(20)\n",
    "array_queue_2.enQueue(30)\n",
    "array_queue_2.enQueue(40)\n",
    "array_queue_2.display()  # Output: 10 20\n"
   ]
  },
  {
   "cell_type": "markdown",
   "metadata": {},
   "source": [
    "\n",
    "## 2. Linked List Implementation of Queue\n"
   ]
  },
  {
   "cell_type": "markdown",
   "metadata": {},
   "source": [
    "\n",
    "In this section, we will implement a queue using a linked list. This method allows for dynamic sizing and avoids wasted space.\n"
   ]
  },
  {
   "cell_type": "markdown",
   "metadata": {},
   "source": [
    "\n",
    "### Key Concepts\n",
    "\n",
    "- **Front**: Points to the first item of the queue.\n",
    "- **Rear**: Points to the last item of the queue.\n"
   ]
  },
  {
   "cell_type": "markdown",
   "metadata": {},
   "source": [
    "\n",
    "### Operations\n",
    "\n",
    "- **enQueue()**: Adds a new node after the rear and moves rear to the next node.\n",
    "- **deQueue()**: Removes the front node and moves front to the next node.\n"
   ]
  },
  {
   "cell_type": "markdown",
   "metadata": {},
   "source": [
    "\n",
    "### Implementation Steps\n",
    "\n",
    "1. Create a class `QNode` with data members `data` and `next`.\n",
    "2. Create a class `Queue` with data members `front` and `rear`.\n"
   ]
  },
  {
   "cell_type": "markdown",
   "metadata": {},
   "source": [
    "### Explanation\n",
    "This cell demonstrates the implementation. Take a moment to check out the code and run the cell to see how it works."
   ]
  },
  {
   "cell_type": "code",
   "execution_count": 3,
   "metadata": {},
   "outputs": [
    {
     "name": "stdout",
     "output_type": "stream",
     "text": [
      "10\n"
     ]
    }
   ],
   "source": [
    "class QNode:\n",
    "    def __init__(self, data):\n",
    "        self.data = data\n",
    "        self.next = None\n",
    "\n",
    "class Queue:\n",
    "    def __init__(self):\n",
    "        self.front = None\n",
    "        self.rear = None\n",
    "\n",
    "    def enQueue(self, data):\n",
    "        new_node = QNode(data)\n",
    "\n",
    "        if not self.rear:\n",
    "            self.front = self.rear = new_node\n",
    "            return\n",
    "\n",
    "        self.rear.next = new_node\n",
    "        self.rear = new_node\n",
    "\n",
    "    def deQueue(self):\n",
    "        if not self.front:\n",
    "            return -1\n",
    "\n",
    "        temp = self.front\n",
    "        self.front = temp.next\n",
    "\n",
    "        if not self.front:\n",
    "            self.rear = None\n",
    "\n",
    "        return temp.data\n",
    "\n",
    "    def getFront(self):\n",
    "        if not self.front:\n",
    "            return -1\n",
    "\n",
    "        return self.front.data\n",
    "\n",
    "# Example usage:\n",
    "linked_list_queue = Queue()\n",
    "linked_list_queue.enQueue(10)\n",
    "linked_list_queue.enQueue(20)\n",
    "print(linked_list_queue.deQueue())  # Output: 10"
   ]
  },
  {
   "cell_type": "markdown",
   "metadata": {},
   "source": [
    "### Try It Yourself!\n",
    "Modify the implementation below or try writing your own version based on what you've learned above."
   ]
  },
  {
   "cell_type": "code",
   "execution_count": 4,
   "metadata": {},
   "outputs": [
    {
     "name": "stdout",
     "output_type": "stream",
     "text": [
      "100\n"
     ]
    }
   ],
   "source": [
    "linked_list_queue_2 = Queue()\n",
    "linked_list_queue_2.enQueue(100)\n",
    "linked_list_queue_2.enQueue(200)\n",
    "linked_list_queue_2.enQueue(300)\n",
    "print(linked_list_queue_2.deQueue())  # Output: "
   ]
  },
  {
   "cell_type": "code",
   "execution_count": 5,
   "metadata": {},
   "outputs": [
    {
     "data": {
      "text/plain": [
       "200"
      ]
     },
     "execution_count": 5,
     "metadata": {},
     "output_type": "execute_result"
    }
   ],
   "source": [
    "linked_list_queue_2.getFront()"
   ]
  },
  {
   "cell_type": "markdown",
   "metadata": {},
   "source": [
    "\n",
    "\n",
    "## Basic Operations on Queue\n"
   ]
  },
  {
   "cell_type": "markdown",
   "metadata": {},
   "source": [
    "\n",
    "Here are the essential operations associated with queues:\n",
    "\n",
    "- **enqueue()**: Adds an element to the rear of the queue.\n",
    "- **dequeue()**: Removes an element from the front of the queue.\n",
    "- **peek() or front()**: Retrieves the data element located at the front of the queue without removing it.\n",
    "- **rear()**: Returns the element at the rear of the queue without removing it.\n",
    "- **isFull()**: Checks if the queue has reached its maximum capacity (applicable for array implementation).\n",
    "- **isEmpty()**: Determines whether the queue is currently empty.\n",
    "- **size()**: Provides the total number of elements present in the queue.\n"
   ]
  },
  {
   "cell_type": "markdown",
   "metadata": {},
   "source": [
    "\n",
    "### Operation 1: enqueue()\n",
    "This operation inserts an element at the rear end of the queue.\n",
    "\n",
    "To perform an enqueue operation, follow these steps:\n",
    "\n",
    "1. Check if the queue is full.\n",
    "2. If full, return an overflow error and exit.\n",
    "3. If not full, increment the rear pointer to point to the next available position.\n",
    "4. Place the new data element in the position indicated by the rear pointer.\n",
    "5. Return success.\n"
   ]
  },
  {
   "cell_type": "markdown",
   "metadata": {},
   "source": [
    "### Explanation\n",
    "This cell demonstrates the implementation. Take a moment to check out the code and run the cell to see how it works."
   ]
  },
  {
   "cell_type": "code",
   "execution_count": 6,
   "metadata": {},
   "outputs": [],
   "source": [
    "def enQueue(self, item):\n",
    "    if self.isFull():\n",
    "        print(\"Queue is full\")\n",
    "        return\n",
    "    self.rear = (self.rear + 1) % self.capacity\n",
    "    self.Q[self.rear] = item\n",
    "    self.size += 1\n",
    "    print(f\"{item} enqueued to queue\")\n"
   ]
  },
  {
   "cell_type": "code",
   "execution_count": 7,
   "metadata": {},
   "outputs": [],
   "source": [
    "# Sample Execution\n",
    "\n",
    "array_queue = ArrayQueue(5)\n",
    "array_queue.enQueue(10)  # Output: 10 enqueued to queue\n",
    "array_queue.enQueue(20)  # Output: 20 enqueued to queue\n"
   ]
  },
  {
   "cell_type": "markdown",
   "metadata": {},
   "source": [
    "### Try It Yourself!\n",
    "Modify the implementation below or try writing your own version based on what you've learned above."
   ]
  },
  {
   "cell_type": "code",
   "execution_count": 8,
   "metadata": {},
   "outputs": [],
   "source": [
    "array_queue_3 = ArrayQueue(3)\n",
    "array_queue_3.enQueue(100)  # Output: 100 enqueued to queue\n",
    "array_queue_3.enQueue(200)  # Output: 200 enqueued to queue\n"
   ]
  },
  {
   "cell_type": "markdown",
   "metadata": {},
   "source": [
    "\n",
    "### Operation 2: dequeue()\n",
    "This operation removes and returns the element located at the front of the queue.\n",
    "\n",
    "To perform a dequeue operation, follow these steps:\n",
    "\n",
    "1. Check if the queue is empty.\n",
    "2. If empty, return an underflow error and exit.\n",
    "3. If not empty, access and store the data at the front pointer.\n",
    "4. Increment the front pointer to point to the next available data element.\n",
    "5. Return success.\n"
   ]
  },
  {
   "cell_type": "markdown",
   "metadata": {},
   "source": [
    "### Explanation\n",
    "This cell demonstrates the implementation. Take a moment to check out the code and run the cell to see how it works."
   ]
  },
  {
   "cell_type": "code",
   "execution_count": 9,
   "metadata": {},
   "outputs": [],
   "source": [
    "def deQueue(self):\n",
    "    if self.isEmpty():\n",
    "        print(\"Queue is empty\")\n",
    "        return\n",
    "\n",
    "    print(f\"{self.Q[self.front]} dequeued from queue\")\n",
    "    self.front = (self.front + 1) % self.capacity\n",
    "    self.size -= 1"
   ]
  },
  {
   "cell_type": "code",
   "execution_count": 10,
   "metadata": {},
   "outputs": [
    {
     "name": "stdout",
     "output_type": "stream",
     "text": [
      "10\n",
      "20\n"
     ]
    }
   ],
   "source": [
    "# Sample Execution\n",
    "\n",
    "print(array_queue.deQueue())  # Output: 10 dequeued from queue\n",
    "print(array_queue.deQueue())  # Output: 20 dequeued from queue\n"
   ]
  },
  {
   "cell_type": "markdown",
   "metadata": {},
   "source": [
    "### Try It Yourself!\n",
    "Modify the implementation below or try writing your own version based on what you've learned above."
   ]
  },
  {
   "cell_type": "code",
   "execution_count": 11,
   "metadata": {},
   "outputs": [
    {
     "name": "stdout",
     "output_type": "stream",
     "text": [
      "100\n",
      "200\n"
     ]
    }
   ],
   "source": [
    "print(array_queue_3.deQueue())  # Output: 100 dequeued from queue\n",
    "print(array_queue_3.deQueue())  # Output: 200 dequeued from queue"
   ]
  },
  {
   "cell_type": "markdown",
   "metadata": {},
   "source": [
    "\n",
    "### Operation 3: front()\n",
    "This operation retrieves the element at the front end without removing it.\n",
    "\n",
    "To perform this operation:\n",
    "\n",
    "1. If the queue is empty, return a message indicating that it is empty.\n",
    "2. Otherwise, return the value at the front pointer.\n"
   ]
  },
  {
   "cell_type": "markdown",
   "metadata": {},
   "source": [
    "### Explanation\n",
    "This cell demonstrates the implementation. Take a moment to check out the code and run the cell to see how it works."
   ]
  },
  {
   "cell_type": "code",
   "execution_count": 12,
   "metadata": {},
   "outputs": [],
   "source": [
    "def getFront(self):\n",
    "    if self.isEmpty():\n",
    "        return \"Queue is empty\"\n",
    "    return self.Q[self.front]"
   ]
  },
  {
   "cell_type": "code",
   "execution_count": 13,
   "metadata": {},
   "outputs": [
    {
     "name": "stdout",
     "output_type": "stream",
     "text": [
      "30\n"
     ]
    }
   ],
   "source": [
    "# Sample Execution\n",
    "\n",
    "array_queue.enQueue(30)  # Output: 30 enqueued to queue\n",
    "print(array_queue.getFront())  # Output: 30 (the front of the queue)\n"
   ]
  },
  {
   "cell_type": "markdown",
   "metadata": {},
   "source": [
    "### Try It Yourself!\n",
    "Modify the implementation below or try writing your own version based on what you've learned above."
   ]
  },
  {
   "cell_type": "code",
   "execution_count": 14,
   "metadata": {},
   "outputs": [
    {
     "name": "stdout",
     "output_type": "stream",
     "text": [
      "Before adding: -1\n",
      "After adding: 600\n"
     ]
    }
   ],
   "source": [
    "print(\"Before adding:\", array_queue_3.getFront())\n",
    "array_queue_3.enQueue(600)\n",
    "print(\"After adding:\", array_queue_3.getFront())"
   ]
  },
  {
   "cell_type": "markdown",
   "metadata": {},
   "source": [
    "\n",
    "### Operation 4: rear()\n",
    "This operation retrieves the element at the rear end without removing it.\n",
    "\n",
    "To perform this operation:\n",
    "\n",
    "1. If the queue is empty, return a message indicating that it is empty.\n",
    "2. Otherwise, return the value at the rear pointer.\n"
   ]
  },
  {
   "cell_type": "markdown",
   "metadata": {},
   "source": [
    "### Explanation\n",
    "This cell demonstrates the implementation. Take a moment to check out the code and run the cell to see how it works."
   ]
  },
  {
   "cell_type": "code",
   "execution_count": 15,
   "metadata": {},
   "outputs": [],
   "source": [
    "def isEmpty(self):\n",
    "    return self.size == 0\n",
    "\n",
    "ArrayQueue.isEmpty = isEmpty # ---> had to add this before!!\n",
    "\n",
    "\n",
    "def que_rear(self):\n",
    "    if self.isEmpty():          # ---> self.isEmpty was not added so it would not work! \n",
    "        return \"Queue is empty\"\n",
    "    return self.queue[self.rear]  # --> self.rear was not defined!!!\n",
    "\n",
    "ArrayQueue.que_rear = que_rear"
   ]
  },
  {
   "cell_type": "code",
   "execution_count": 16,
   "metadata": {},
   "outputs": [
    {
     "name": "stdout",
     "output_type": "stream",
     "text": [
      "10\n"
     ]
    }
   ],
   "source": [
    "# Sample Execution\n",
    "\n",
    "print(array_queue.que_rear())  # Output: 30 (the rear element)\n"
   ]
  },
  {
   "cell_type": "markdown",
   "metadata": {},
   "source": [
    "### Try It Yourself!\n",
    "Modify the implementation below or try writing your own version based on what you've learned above."
   ]
  },
  {
   "cell_type": "code",
   "execution_count": 17,
   "metadata": {},
   "outputs": [
    {
     "name": "stdout",
     "output_type": "stream",
     "text": [
      "100\n"
     ]
    }
   ],
   "source": [
    "print(array_queue_3.que_rear())"
   ]
  },
  {
   "cell_type": "markdown",
   "metadata": {},
   "source": [
    "\n",
    "### Operation 5: isEmpty()\n",
    "This operation checks whether the queue is empty and returns a boolean value.\n",
    "\n",
    "To perform this check:\n",
    "\n",
    "1. Verify if `front` equals -1; if so, return true (indicating that the queue is empty).\n",
    "2. Otherwise, return false (indicating that there are elements in the queue).\n"
   ]
  },
  {
   "cell_type": "markdown",
   "metadata": {},
   "source": [
    "### Explanation\n",
    "This cell demonstrates the implementation. Take a moment to check out the code and run the cell to see how it works."
   ]
  },
  {
   "cell_type": "code",
   "execution_count": 18,
   "metadata": {},
   "outputs": [],
   "source": [
    "def isEmpty(self):\n",
    "    return self.size == 0\n",
    "\n",
    "ArrayQueue.isEmpty = isEmpty"
   ]
  },
  {
   "cell_type": "code",
   "execution_count": 19,
   "metadata": {},
   "outputs": [
    {
     "name": "stdout",
     "output_type": "stream",
     "text": [
      "False\n"
     ]
    }
   ],
   "source": [
    "# Sample Execution\n",
    "\n",
    "print(array_queue.isEmpty())  # Output: False (since there are elements in the queue)"
   ]
  },
  {
   "cell_type": "markdown",
   "metadata": {},
   "source": [
    "### Try It Yourself!\n",
    "Modify the implementation below or try writing your own version based on what you've learned above."
   ]
  },
  {
   "cell_type": "code",
   "execution_count": 20,
   "metadata": {},
   "outputs": [
    {
     "name": "stdout",
     "output_type": "stream",
     "text": [
      "False\n"
     ]
    }
   ],
   "source": [
    "print(array_queue_3.isEmpty())"
   ]
  },
  {
   "cell_type": "markdown",
   "metadata": {},
   "source": [
    "\n",
    "### Operation 6: isFull()\n",
    "This operation checks whether the queue has reached its maximum capacity and returns a boolean value.\n",
    "\n",
    "To perform this check:\n"
   ]
  },
  {
   "cell_type": "markdown",
   "metadata": {
    "vscode": {
     "languageId": "plaintext"
    }
   },
   "source": [
    "\n",
    "1. Determine if `size` equals `capacity`; if so, return true (indicating that the queue is full).\n",
    "2. Otherwise, return false (indicating that there is still space available).\n",
    "\n"
   ]
  },
  {
   "cell_type": "markdown",
   "metadata": {},
   "source": [
    "### Explanation\n",
    "This cell demonstrates the implementation. Take a moment to check out the code and run the cell to see how it works."
   ]
  },
  {
   "cell_type": "code",
   "execution_count": 21,
   "metadata": {},
   "outputs": [],
   "source": [
    "def isFull(self):\n",
    "    return self.size == self.capacity\n",
    "\n",
    "ArrayQueue.isFull = isFull"
   ]
  },
  {
   "cell_type": "code",
   "execution_count": 22,
   "metadata": {},
   "outputs": [
    {
     "name": "stdout",
     "output_type": "stream",
     "text": [
      "False\n"
     ]
    }
   ],
   "source": [
    "# Sample Execution\n",
    "\n",
    "print(array_queue.isFull())  # Output: False (if capacity has not been reached)"
   ]
  },
  {
   "cell_type": "markdown",
   "metadata": {},
   "source": [
    "### Try It Yourself!\n",
    "Modify the implementation below or try writing your own version based on what you've learned above."
   ]
  },
  {
   "cell_type": "code",
   "execution_count": 23,
   "metadata": {},
   "outputs": [
    {
     "name": "stdout",
     "output_type": "stream",
     "text": [
      "False\n"
     ]
    }
   ],
   "source": [
    "print(array_queue_3.isFull())"
   ]
  },
  {
   "cell_type": "markdown",
   "metadata": {},
   "source": [
    "\n",
    "### Operation 7: size()\n",
    "This operation returns the total number of elements currently in the queue.\n"
   ]
  },
  {
   "cell_type": "markdown",
   "metadata": {},
   "source": [
    "### Explanation\n",
    "This cell demonstrates the implementation. Take a moment to check out the code and run the cell to see how it works."
   ]
  },
  {
   "cell_type": "code",
   "execution_count": 24,
   "metadata": {},
   "outputs": [],
   "source": [
    "def get_size(self):  \n",
    "    return self.size\n",
    "\n",
    "ArrayQueue.get_size = get_size\n",
    "\n",
    "# -->  self.size is both a method name and an attribute name, which is causing the conflict. \n",
    "# When you try to call array_queue.size(), Python is confused because size is recognized as an integer attribute, not the method you added later."
   ]
  },
  {
   "cell_type": "code",
   "execution_count": 25,
   "metadata": {},
   "outputs": [
    {
     "name": "stdout",
     "output_type": "stream",
     "text": [
      "1\n"
     ]
    }
   ],
   "source": [
    "# Sample Execution\n",
    "\n",
    "print(array_queue.get_size())   # Output: Current size of the queue (e.g., 1)"
   ]
  },
  {
   "cell_type": "markdown",
   "metadata": {},
   "source": [
    "### Try It Yourself!\n",
    "Modify the implementation below or try writing your own version based on what you've learned above."
   ]
  },
  {
   "cell_type": "code",
   "execution_count": 28,
   "metadata": {},
   "outputs": [
    {
     "name": "stdout",
     "output_type": "stream",
     "text": [
      "Queue is full\n",
      "600 100 200 \n"
     ]
    }
   ],
   "source": [
    "array_queue_3.enQueue(100)\n",
    "array_queue_3.enQueue(200)\n",
    "array_queue_3.enQueue(300)\n",
    "array_queue_3.display()"
   ]
  },
  {
   "cell_type": "code",
   "execution_count": 29,
   "metadata": {},
   "outputs": [
    {
     "name": "stdout",
     "output_type": "stream",
     "text": [
      "3\n"
     ]
    }
   ],
   "source": [
    "print(array_queue_3.get_size())"
   ]
  },
  {
   "cell_type": "markdown",
   "metadata": {},
   "source": [
    "\n",
    "## Exercise Completion\n"
   ]
  },
  {
   "cell_type": "markdown",
   "metadata": {},
   "source": [
    "\n",
    "Once you have completed all sections:\n",
    "\n",
    "- Review your implementations.\n",
    "- Ensure your code is well-documented with comments explaining your logic.\n",
    "- Save your notebook for submission or further review.\n",
    "\n",
    "Happy coding! Enjoy practicing Queue implementations in Python!\n"
   ]
  }
 ],
 "metadata": {
  "kernelspec": {
   "display_name": "base",
   "language": "python",
   "name": "python3"
  },
  "language_info": {
   "codemirror_mode": {
    "name": "ipython",
    "version": 3
   },
   "file_extension": ".py",
   "mimetype": "text/x-python",
   "name": "python",
   "nbconvert_exporter": "python",
   "pygments_lexer": "ipython3",
   "version": "3.12.7"
  }
 },
 "nbformat": 4,
 "nbformat_minor": 2
}
