{
 "cells": [
  {
   "cell_type": "markdown",
   "metadata": {},
   "source": [
    "# LAB | Implementation of Queues"
   ]
  },
  {
   "cell_type": "markdown",
   "metadata": {},
   "source": [
    "\n",
    "## Overview"
   ]
  },
  {
   "cell_type": "markdown",
   "metadata": {},
   "source": [
    "\n",
    "This lesson will cover the implementation of queues in Python, focusing on two primary methods: array implementation and linked list implementation. Understanding these implementations will provide a solid foundation for working with queues in various applications.\n"
   ]
  },
  {
   "cell_type": "markdown",
   "metadata": {},
   "source": [
    "\n",
    "## Instructions\n"
   ]
  },
  {
   "cell_type": "markdown",
   "metadata": {},
   "source": [
    "\n",
    "- Complete each section by understanding the concepts and implementing the provided code.\n",
    "- Test your code to ensure it behaves as expected.\n",
    "\n",
    "\n"
   ]
  },
  {
   "cell_type": "markdown",
   "metadata": {},
   "source": [
    "\n",
    "## 1. Array Implementation of Queue\n"
   ]
  },
  {
   "cell_type": "markdown",
   "metadata": {},
   "source": [
    "\n",
    "In this section, we will discuss how to implement a queue using a simple array. While this method is not efficient for practical use, as it can lead to wasted space, it is important for understanding the fundamentals of queue operations.\n"
   ]
  },
  {
   "cell_type": "markdown",
   "metadata": {},
   "source": [
    "\n",
    "### Key Concepts\n",
    "\n",
    "- **Capacity**: The fixed size of the array.\n",
    "- **Size**: The current number of elements in the queue.\n",
    "- **Front**: The index of the first element in the array.\n"
   ]
  },
  {
   "cell_type": "markdown",
   "metadata": {},
   "source": [
    "\n",
    "### Operations\n",
    "\n",
    "- **Enqueue**: Adds new elements to the end of the queue. Checks if there is space before insertion and increments the size.\n",
    "- **Dequeue**: Removes the front element by shifting all remaining elements one position to the left and decrements the size.\n",
    "- **getFront**: Returns the first element of the queue if it’s not empty; returns -1 if the queue is empty.\n",
    "- **Display**: Iterates through the queue from front to size and prints each element.\n"
   ]
  },
  {
   "cell_type": "markdown",
   "metadata": {},
   "source": [
    "### Explanation\n",
    "This cell demonstrates the implementation. Take a moment to check out the code and run the cell to see how it works."
   ]
  },
  {
   "cell_type": "code",
   "execution_count": 256,
   "metadata": {},
   "outputs": [
    {
     "name": "stdout",
     "output_type": "stream",
     "text": [
      "10 20 \n",
      "10\n"
     ]
    }
   ],
   "source": [
    "class ArrayQueue:\n",
    "    def __init__(self, capacity):\n",
    "        self.capacity = capacity\n",
    "        self.queue = [None] * capacity\n",
    "        self.size = 0\n",
    "        self.front = 0\n",
    "\n",
    "    def enQueue(self, item):\n",
    "        if self.size == self.capacity:\n",
    "            print(\"Queue is full\")\n",
    "            return\n",
    "\n",
    "        rear = (self.front + self.size) % self.capacity\n",
    "        self.queue[rear] = item\n",
    "        self.size += 1\n",
    "\n",
    "    def deQueue(self):\n",
    "        if self.size == 0:\n",
    "            print(\"Queue is empty\")\n",
    "            return -1\n",
    "\n",
    "        item = self.queue[self.front]\n",
    "        self.front = (self.front + 1) % self.capacity\n",
    "        self.size -= 1\n",
    "        return item\n",
    "\n",
    "    def getFront(self):\n",
    "        if self.size == 0:\n",
    "            return -1\n",
    "        return self.queue[self.front]\n",
    "\n",
    "    def display(self):\n",
    "        for i in range(self.size):\n",
    "            print(self.queue[(self.front + i) % self.capacity], end=\" \")\n",
    "        print()\n",
    "\n",
    "    def isFull(self):\n",
    "        return self.size == self.capacity\n",
    "    \n",
    "    def get_size(self):\n",
    "        return self.size\n",
    "\n",
    "\n",
    "# Example usage:\n",
    "array_queue = ArrayQueue(5)\n",
    "array_queue.enQueue(10)\n",
    "array_queue.enQueue(20)\n",
    "array_queue.display()  # Output: 10 20\n",
    "print(array_queue.deQueue())  # Output: 10"
   ]
  },
  {
   "cell_type": "markdown",
   "metadata": {},
   "source": [
    "### Try It Yourself!\n",
    "Modify the implementation below or try writing your own version based on what you've learned above."
   ]
  },
  {
   "cell_type": "code",
   "execution_count": 257,
   "metadata": {},
   "outputs": [
    {
     "name": "stdout",
     "output_type": "stream",
     "text": [
      "0 \n",
      "0 10 \n",
      "0 10 20 \n",
      "0 10 20 30 \n",
      "0 10 20 30 40 \n",
      "0 10 20 30 40 50 \n",
      "0 10 20 30 40 50 60 \n",
      "0 10 20 30 40 50 60 70 \n",
      "Queue is full\n",
      "0 10 20 30 40 50 60 70 \n"
     ]
    }
   ],
   "source": [
    "my_queue = ArrayQueue(8)\n",
    "for i in range(9):\n",
    "    my_queue.enQueue(i*10)\n",
    "    my_queue.display()\n"
   ]
  },
  {
   "cell_type": "markdown",
   "metadata": {},
   "source": [
    "\n",
    "## 2. Linked List Implementation of Queue\n"
   ]
  },
  {
   "cell_type": "markdown",
   "metadata": {},
   "source": [
    "\n",
    "In this section, we will implement a queue using a linked list. This method allows for dynamic sizing and avoids wasted space.\n"
   ]
  },
  {
   "cell_type": "markdown",
   "metadata": {},
   "source": [
    "\n",
    "### Key Concepts\n",
    "\n",
    "- **Front**: Points to the first item of the queue.\n",
    "- **Rear**: Points to the last item of the queue.\n"
   ]
  },
  {
   "cell_type": "markdown",
   "metadata": {},
   "source": [
    "\n",
    "### Operations\n",
    "\n",
    "- **enQueue()**: Adds a new node after the rear and moves rear to the next node.\n",
    "- **deQueue()**: Removes the front node and moves front to the next node.\n"
   ]
  },
  {
   "cell_type": "markdown",
   "metadata": {},
   "source": [
    "\n",
    "### Implementation Steps\n",
    "\n",
    "1. Create a class `QNode` with data members `data` and `next`.\n",
    "2. Create a class `Queue` with data members `front` and `rear`.\n"
   ]
  },
  {
   "cell_type": "markdown",
   "metadata": {},
   "source": [
    "### Explanation\n",
    "This cell demonstrates the implementation. Take a moment to check out the code and run the cell to see how it works."
   ]
  },
  {
   "cell_type": "code",
   "execution_count": 258,
   "metadata": {},
   "outputs": [
    {
     "name": "stdout",
     "output_type": "stream",
     "text": [
      "10\n"
     ]
    }
   ],
   "source": [
    "class QNode:\n",
    "    def __init__(self, data):\n",
    "        self.data = data\n",
    "        self.next = None\n",
    "\n",
    "class Queue:\n",
    "    def __init__(self):\n",
    "        self.front = None\n",
    "        self.rear = None\n",
    "\n",
    "    def enQueue(self, data):\n",
    "        new_node = QNode(data)\n",
    "\n",
    "        if not self.rear:\n",
    "            self.front = self.rear = new_node\n",
    "            return\n",
    "\n",
    "        self.rear.next = new_node\n",
    "        self.rear = new_node\n",
    "\n",
    "    def deQueue(self):\n",
    "        if not self.front:\n",
    "            return None\n",
    "\n",
    "        temp = self.front\n",
    "        self.front = temp.next\n",
    "\n",
    "        if not self.front:\n",
    "            self.rear = None\n",
    "\n",
    "        return temp.data\n",
    "\n",
    "    def getFront(self):\n",
    "        if not self.front:\n",
    "            return None\n",
    "\n",
    "        return self.front.data\n",
    "    \n",
    "    def isEmpty(self):\n",
    "        return self.front is None\n",
    "    \n",
    "\n",
    "    def que_rear(self):\n",
    "        if self.isEmpty():\n",
    "            return \"Queue is empty\"\n",
    "        return self.rear.data\n",
    "    \n",
    "    def get_size(self):\n",
    "        count = 0\n",
    "        current = self.front  \n",
    "        while current:  \n",
    "            count += 1\n",
    "            current = current.next \n",
    "        return count\n",
    "\n",
    "\n",
    "# Example usage:\n",
    "linked_list_queue = Queue()\n",
    "linked_list_queue.enQueue(10)\n",
    "linked_list_queue.enQueue(20)\n",
    "print(linked_list_queue.deQueue())  # Output: 10"
   ]
  },
  {
   "cell_type": "markdown",
   "metadata": {},
   "source": [
    "### Try It Yourself!\n",
    "Modify the implementation below or try writing your own version based on what you've learned above."
   ]
  },
  {
   "cell_type": "code",
   "execution_count": null,
   "metadata": {},
   "outputs": [],
   "source": []
  },
  {
   "cell_type": "markdown",
   "metadata": {},
   "source": [
    "\n",
    "\n",
    "## Basic Operations on Queue\n"
   ]
  },
  {
   "cell_type": "markdown",
   "metadata": {},
   "source": [
    "\n",
    "Here are the essential operations associated with queues:\n",
    "\n",
    "- **enqueue()**: Adds an element to the rear of the queue.\n",
    "- **dequeue()**: Removes an element from the front of the queue.\n",
    "- **peek() or front()**: Retrieves the data element located at the front of the queue without removing it.\n",
    "- **rear()**: Returns the element at the rear of the queue without removing it.\n",
    "- **isFull()**: Checks if the queue has reached its maximum capacity (applicable for array implementation).\n",
    "- **isEmpty()**: Determines whether the queue is currently empty.\n",
    "- **size()**: Provides the total number of elements present in the queue.\n"
   ]
  },
  {
   "cell_type": "markdown",
   "metadata": {},
   "source": [
    "\n",
    "### Operation 1: enqueue()\n",
    "This operation inserts an element at the rear end of the queue.\n",
    "\n",
    "To perform an enqueue operation, follow these steps:\n",
    "\n",
    "1. Check if the queue is full.\n",
    "2. If full, return an overflow error and exit.\n",
    "3. If not full, increment the rear pointer to point to the next available position.\n",
    "4. Place the new data element in the position indicated by the rear pointer.\n",
    "5. Return success.\n"
   ]
  },
  {
   "cell_type": "markdown",
   "metadata": {},
   "source": [
    "### Explanation\n",
    "This cell demonstrates the implementation. Take a moment to check out the code and run the cell to see how it works."
   ]
  },
  {
   "cell_type": "code",
   "execution_count": 259,
   "metadata": {},
   "outputs": [],
   "source": [
    "def enQueue(self, item):\n",
    "    if self.isFull():\n",
    "        print(\"Queue is full\")\n",
    "        return\n",
    "    self.rear = (self.rear + 1) % self.capacity\n",
    "    self.Q[self.rear] = item\n",
    "    self.size += 1\n",
    "    print(f\"{item} enqueued to queue\")\n"
   ]
  },
  {
   "cell_type": "code",
   "execution_count": 260,
   "metadata": {},
   "outputs": [],
   "source": [
    "# Sample Execution\n",
    "\n",
    "array_queue = ArrayQueue(5)\n",
    "array_queue.enQueue(10)  # Output: 10 enqueued to queue\n",
    "array_queue.enQueue(20)  # Output: 20 enqueued to queue\n"
   ]
  },
  {
   "cell_type": "markdown",
   "metadata": {},
   "source": [
    "### Try It Yourself!\n",
    "Modify the implementation below or try writing your own version based on what you've learned above."
   ]
  },
  {
   "cell_type": "code",
   "execution_count": 261,
   "metadata": {},
   "outputs": [
    {
     "name": "stdout",
     "output_type": "stream",
     "text": [
      "EnQueue:  0\n",
      "EnQueue:  10\n",
      "EnQueue:  20\n",
      "EnQueue:  30\n",
      "EnQueue:  40\n",
      "EnQueue:  50\n"
     ]
    }
   ],
   "source": [
    "for i in range(6):\n",
    "    linked_list_queue.enQueue(i*10)\n",
    "    print(\"EnQueue: \", linked_list_queue.que_rear())\n",
    "\n",
    "\n",
    "\n",
    "\n"
   ]
  },
  {
   "cell_type": "markdown",
   "metadata": {},
   "source": [
    "\n",
    "### Operation 2: dequeue()\n",
    "This operation removes and returns the element located at the front of the queue.\n",
    "\n",
    "To perform a dequeue operation, follow these steps:\n",
    "\n",
    "1. Check if the queue is empty.\n",
    "2. If empty, return an underflow error and exit.\n",
    "3. If not empty, access and store the data at the front pointer.\n",
    "4. Increment the front pointer to point to the next available data element.\n",
    "5. Return success.\n"
   ]
  },
  {
   "cell_type": "markdown",
   "metadata": {},
   "source": [
    "### Explanation\n",
    "This cell demonstrates the implementation. Take a moment to check out the code and run the cell to see how it works."
   ]
  },
  {
   "cell_type": "code",
   "execution_count": 262,
   "metadata": {},
   "outputs": [],
   "source": [
    "def deQueue(self):\n",
    "    if self.isEmpty():\n",
    "        print(\"Queue is empty\")\n",
    "        return\n",
    "\n",
    "    print(f\"{self.Q[self.front]} dequeued from queue\")\n",
    "    self.front = (self.front + 1) % self.capacity\n",
    "    self.size -= 1"
   ]
  },
  {
   "cell_type": "code",
   "execution_count": 263,
   "metadata": {},
   "outputs": [
    {
     "name": "stdout",
     "output_type": "stream",
     "text": [
      "10\n",
      "20\n"
     ]
    }
   ],
   "source": [
    "# Sample Execution\n",
    "\n",
    "print(array_queue.deQueue())  # Output: 10 dequeued from queue\n",
    "print(array_queue.deQueue())  # Output: 20 dequeued from queue\n"
   ]
  },
  {
   "cell_type": "markdown",
   "metadata": {},
   "source": [
    "### Try It Yourself!\n",
    "Modify the implementation below or try writing your own version based on what you've learned above."
   ]
  },
  {
   "cell_type": "code",
   "execution_count": 264,
   "metadata": {},
   "outputs": [
    {
     "name": "stdout",
     "output_type": "stream",
     "text": [
      "deQueue:  20\n",
      "deQueue:  0\n",
      "deQueue:  10\n",
      "deQueue:  20\n",
      "deQueue:  30\n",
      "deQueue:  40\n",
      "deQueue:  50\n",
      "None\n"
     ]
    }
   ],
   "source": [
    "while not linked_list_queue.isEmpty():\n",
    "    print(\"deQueue: \",linked_list_queue.deQueue())\n",
    "\n",
    "print(linked_list_queue.deQueue())"
   ]
  },
  {
   "cell_type": "markdown",
   "metadata": {},
   "source": [
    "\n",
    "### Operation 3: front()\n",
    "This operation retrieves the element at the front end without removing it.\n",
    "\n",
    "To perform this operation:\n",
    "\n",
    "1. If the queue is empty, return a message indicating that it is empty.\n",
    "2. Otherwise, return the value at the front pointer.\n"
   ]
  },
  {
   "cell_type": "markdown",
   "metadata": {},
   "source": [
    "### Explanation\n",
    "This cell demonstrates the implementation. Take a moment to check out the code and run the cell to see how it works."
   ]
  },
  {
   "cell_type": "code",
   "execution_count": 265,
   "metadata": {},
   "outputs": [],
   "source": [
    "def getFront(self):\n",
    "    if self.isEmpty():\n",
    "        return \"Queue is empty\"\n",
    "    return self.Q[self.front]"
   ]
  },
  {
   "cell_type": "code",
   "execution_count": 266,
   "metadata": {},
   "outputs": [
    {
     "name": "stdout",
     "output_type": "stream",
     "text": [
      "30\n"
     ]
    }
   ],
   "source": [
    "# Sample Execution\n",
    "\n",
    "array_queue.enQueue(30)  # Output: 30 enqueued to queue\n",
    "print(array_queue.getFront())  # Output: 30 (the front of the queue)\n"
   ]
  },
  {
   "cell_type": "markdown",
   "metadata": {},
   "source": [
    "### Try It Yourself!\n",
    "Modify the implementation below or try writing your own version based on what you've learned above."
   ]
  },
  {
   "cell_type": "code",
   "execution_count": 267,
   "metadata": {},
   "outputs": [
    {
     "name": "stdout",
     "output_type": "stream",
     "text": [
      "Front:  50\n",
      "New front:  60\n"
     ]
    }
   ],
   "source": [
    "linked_list_queue.enQueue(50)\n",
    "linked_list_queue.enQueue(60)\n",
    "print(\"Front: \", linked_list_queue.getFront())\n",
    "linked_list_queue.deQueue()\n",
    "print(\"New front: \", linked_list_queue.getFront())\n"
   ]
  },
  {
   "cell_type": "markdown",
   "metadata": {},
   "source": [
    "\n",
    "### Operation 4: rear()\n",
    "This operation retrieves the element at the rear end without removing it.\n",
    "\n",
    "To perform this operation:\n",
    "\n",
    "1. If the queue is empty, return a message indicating that it is empty.\n",
    "2. Otherwise, return the value at the rear pointer.\n"
   ]
  },
  {
   "cell_type": "markdown",
   "metadata": {},
   "source": [
    "### Explanation\n",
    "This cell demonstrates the implementation. Take a moment to check out the code and run the cell to see how it works."
   ]
  },
  {
   "cell_type": "markdown",
   "metadata": {},
   "source": [
    "def que_rear(self):\n",
    "    if self.isEmpty():\n",
    "        return \"Queue is empty\"\n",
    "    return self.Q[self.rear]"
   ]
  },
  {
   "cell_type": "code",
   "execution_count": 268,
   "metadata": {},
   "outputs": [
    {
     "name": "stdout",
     "output_type": "stream",
     "text": [
      "60\n"
     ]
    }
   ],
   "source": [
    "# Sample Execution\n",
    "\n",
    "print(linked_list_queue.que_rear())  \n"
   ]
  },
  {
   "cell_type": "markdown",
   "metadata": {},
   "source": [
    "### Try It Yourself!\n",
    "Modify the implementation below or try writing your own version based on what you've learned above."
   ]
  },
  {
   "cell_type": "code",
   "execution_count": null,
   "metadata": {},
   "outputs": [],
   "source": []
  },
  {
   "cell_type": "markdown",
   "metadata": {},
   "source": [
    "\n",
    "### Operation 5: isEmpty()\n",
    "This operation checks whether the queue is empty and returns a boolean value.\n",
    "\n",
    "To perform this check:\n",
    "\n",
    "1. Verify if `front` equals -1; if so, return true (indicating that the queue is empty).\n",
    "2. Otherwise, return false (indicating that there are elements in the queue).\n"
   ]
  },
  {
   "cell_type": "markdown",
   "metadata": {},
   "source": [
    "### Explanation\n",
    "This cell demonstrates the implementation. Take a moment to check out the code and run the cell to see how it works."
   ]
  },
  {
   "cell_type": "code",
   "execution_count": 269,
   "metadata": {},
   "outputs": [],
   "source": [
    "def isEmpty(self):\n",
    "    return self.size == 0\n"
   ]
  },
  {
   "cell_type": "code",
   "execution_count": 270,
   "metadata": {},
   "outputs": [
    {
     "name": "stdout",
     "output_type": "stream",
     "text": [
      "False\n"
     ]
    }
   ],
   "source": [
    "# Sample Execution\n",
    "\n",
    "print(linked_list_queue.isEmpty())  # Output: False (since there are elements in the queue)"
   ]
  },
  {
   "cell_type": "markdown",
   "metadata": {},
   "source": [
    "### Try It Yourself!\n",
    "Modify the implementation below or try writing your own version based on what you've learned above."
   ]
  },
  {
   "cell_type": "code",
   "execution_count": 271,
   "metadata": {},
   "outputs": [
    {
     "name": "stdout",
     "output_type": "stream",
     "text": [
      "60\n",
      "True\n"
     ]
    }
   ],
   "source": [
    "print(linked_list_queue.deQueue())\n",
    "print(linked_list_queue.isEmpty())"
   ]
  },
  {
   "cell_type": "markdown",
   "metadata": {},
   "source": [
    "\n",
    "### Operation 6: isFull()\n",
    "This operation checks whether the queue has reached its maximum capacity and returns a boolean value.\n",
    "\n",
    "To perform this check:\n"
   ]
  },
  {
   "cell_type": "markdown",
   "metadata": {
    "vscode": {
     "languageId": "plaintext"
    }
   },
   "source": [
    "\n",
    "1. Determine if `size` equals `capacity`; if so, return true (indicating that the queue is full).\n",
    "2. Otherwise, return false (indicating that there is still space available).\n",
    "\n"
   ]
  },
  {
   "cell_type": "markdown",
   "metadata": {},
   "source": [
    "### Explanation\n",
    "This cell demonstrates the implementation. Take a moment to check out the code and run the cell to see how it works."
   ]
  },
  {
   "cell_type": "code",
   "execution_count": 272,
   "metadata": {},
   "outputs": [],
   "source": [
    "def isFull(self):\n",
    "    return self.size == self.capacity"
   ]
  },
  {
   "cell_type": "code",
   "execution_count": 273,
   "metadata": {},
   "outputs": [
    {
     "name": "stdout",
     "output_type": "stream",
     "text": [
      "False\n",
      "False\n",
      "False\n",
      "False\n",
      "True\n"
     ]
    }
   ],
   "source": [
    "# Sample Execution\n",
    "\n",
    "print(array_queue.isFull())  # Output: False (if capacity has not been reached)\n",
    "array_queue.enQueue(100)\n",
    "print(array_queue.isFull())  # Output: False (if capacity has not been reached)\n",
    "array_queue.enQueue(50)\n",
    "print(array_queue.isFull())  # Output: False (if capacity has not been reached)\n",
    "array_queue.enQueue(90)\n",
    "print(array_queue.isFull())  # Output: False (if capacity has not been reached)\n",
    "array_queue.enQueue(90)\n",
    "print(array_queue.isFull())  # Output: False (if capacity has not been reached)\n",
    "\n"
   ]
  },
  {
   "cell_type": "markdown",
   "metadata": {},
   "source": [
    "### Try It Yourself!\n",
    "Modify the implementation below or try writing your own version based on what you've learned above."
   ]
  },
  {
   "cell_type": "code",
   "execution_count": null,
   "metadata": {},
   "outputs": [],
   "source": []
  },
  {
   "cell_type": "markdown",
   "metadata": {},
   "source": [
    "\n",
    "### Operation 7: size()\n",
    "This operation returns the total number of elements currently in the queue.\n"
   ]
  },
  {
   "cell_type": "markdown",
   "metadata": {},
   "source": [
    "### Explanation\n",
    "This cell demonstrates the implementation. Take a moment to check out the code and run the cell to see how it works."
   ]
  },
  {
   "cell_type": "code",
   "execution_count": 274,
   "metadata": {},
   "outputs": [],
   "source": [
    "def size(self):\n",
    "    return self.size\n"
   ]
  },
  {
   "cell_type": "code",
   "execution_count": 275,
   "metadata": {},
   "outputs": [
    {
     "name": "stdout",
     "output_type": "stream",
     "text": [
      "5\n"
     ]
    }
   ],
   "source": [
    "\n",
    "# Sample Execution\n",
    "\n",
    "print(array_queue.get_size())   # Output: Current size of the queue (e.g., 1)"
   ]
  },
  {
   "cell_type": "markdown",
   "metadata": {},
   "source": [
    "### Try It Yourself!\n",
    "Modify the implementation below or try writing your own version based on what you've learned above."
   ]
  },
  {
   "cell_type": "code",
   "execution_count": 276,
   "metadata": {},
   "outputs": [
    {
     "name": "stdout",
     "output_type": "stream",
     "text": [
      "Before adding elements:  0\n",
      "Afrer:  10\n"
     ]
    }
   ],
   "source": [
    "print(\"Before adding elements: \",linked_list_queue.get_size())\n",
    "for i in range(10):\n",
    "    linked_list_queue.enQueue(i*4)\n",
    "print(\"Afrer: \", linked_list_queue.get_size())"
   ]
  },
  {
   "cell_type": "markdown",
   "metadata": {},
   "source": [
    "\n",
    "## Exercise Completion\n"
   ]
  },
  {
   "cell_type": "markdown",
   "metadata": {},
   "source": [
    "\n",
    "Once you have completed all sections:\n",
    "\n",
    "- Review your implementations.\n",
    "- Ensure your code is well-documented with comments explaining your logic.\n",
    "- Save your notebook for submission or further review.\n",
    "\n",
    "Happy coding! Enjoy practicing Queue implementations in Python!\n"
   ]
  }
 ],
 "metadata": {
  "kernelspec": {
   "display_name": "Python 3",
   "language": "python",
   "name": "python3"
  },
  "language_info": {
   "codemirror_mode": {
    "name": "ipython",
    "version": 3
   },
   "file_extension": ".py",
   "mimetype": "text/x-python",
   "name": "python",
   "nbconvert_exporter": "python",
   "pygments_lexer": "ipython3",
   "version": "3.9.6"
  }
 },
 "nbformat": 4,
 "nbformat_minor": 2
}
